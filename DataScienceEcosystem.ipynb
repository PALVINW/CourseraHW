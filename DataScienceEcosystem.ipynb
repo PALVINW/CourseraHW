{
 "cells": [
  {
   "cell_type": "markdown",
   "id": "93f70e4f-069d-4b9e-8c9f-7c7b79655060",
   "metadata": {},
   "source": [
    "# Data Science Tools and Ecosystem"
   ]
  },
  {
   "cell_type": "markdown",
   "id": "1efd05f1-c278-4c64-bb67-bc38c76b9d0e",
   "metadata": {},
   "source": [
    "In this notebook, Data Science Tools and Ecosystem are summarized."
   ]
  },
  {
   "cell_type": "markdown",
   "id": "840fe03f-64de-4000-bef3-20673703d4a9",
   "metadata": {},
   "source": [
    "Some of the popular languages that Data Scientists use are:\n",
    "1. Python\n",
    "2. R Studio\n",
    "3. Java"
   ]
  },
  {
   "cell_type": "markdown",
   "id": "19bfe5e2-5dc0-488b-8ba4-79f062aaef71",
   "metadata": {},
   "source": [
    "**Objectives:**\n",
    "- Python\n",
    "- SQL\n",
    "- R"
   ]
  },
  {
   "cell_type": "markdown",
   "id": "f0541f90-5a84-4441-96ce-3bca1653b410",
   "metadata": {},
   "source": [
    "Some of the commonly used libraries used by Data Scientists include:\n",
    "1. dyplr\n",
    "2. tidyverse\n",
    "3. ggplot2"
   ]
  },
  {
   "cell_type": "markdown",
   "id": "e0eb2d6c-9bff-4044-8b37-31be2af6ec03",
   "metadata": {},
   "source": [
    "|Data Science Tools|\n",
    "| -------------|\n",
    "| Jupyter Notebooks |\n",
    "| PyCharm |\n",
    "| Visual Studio Code |"
   ]
  },
  {
   "cell_type": "markdown",
   "id": "7b1c95bf-91b0-433f-b409-8e6e4be07d77",
   "metadata": {},
   "source": [
    "### Below are a few examples of evaluating arithmetic expressions in Python"
   ]
  },
  {
   "cell_type": "code",
   "execution_count": 2,
   "id": "21e585d4-cc14-4e77-b57a-a0375f64dee7",
   "metadata": {
    "tags": []
   },
   "outputs": [
    {
     "data": {
      "text/plain": [
       "17"
      ]
     },
     "execution_count": 2,
     "metadata": {},
     "output_type": "execute_result"
    }
   ],
   "source": [
    "#This a simple arithmetic expression to mutiply then add integers\n",
    "(3*4)+5 "
   ]
  },
  {
   "cell_type": "code",
   "execution_count": 4,
   "id": "dc61b38b-be76-417c-a5d5-6c624f952a28",
   "metadata": {
    "tags": []
   },
   "outputs": [
    {
     "data": {
      "text/plain": [
       "3.3333333333333335"
      ]
     },
     "execution_count": 4,
     "metadata": {},
     "output_type": "execute_result"
    }
   ],
   "source": [
    "#This will convert 200 minutes to hours by diving by 60\n",
    "200/60"
   ]
  },
  {
   "cell_type": "markdown",
   "id": "0587c228-45ff-4bdc-8bf2-7044b584cc90",
   "metadata": {},
   "source": [
    "## Author\n",
    "Siyi Wang"
   ]
  },
  {
   "cell_type": "code",
   "execution_count": null,
   "id": "501ce3f2-c4f1-4299-bf6e-f5db04fd5615",
   "metadata": {},
   "outputs": [],
   "source": []
  }
 ],
 "metadata": {
  "kernelspec": {
   "display_name": "Python 3 (ipykernel)",
   "language": "python",
   "name": "python3"
  },
  "language_info": {
   "codemirror_mode": {
    "name": "ipython",
    "version": 3
   },
   "file_extension": ".py",
   "mimetype": "text/x-python",
   "name": "python",
   "nbconvert_exporter": "python",
   "pygments_lexer": "ipython3",
   "version": "3.11.5"
  }
 },
 "nbformat": 4,
 "nbformat_minor": 5
}
